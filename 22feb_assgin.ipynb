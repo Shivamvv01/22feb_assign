{
 "cells": [
  {
   "cell_type": "markdown",
   "id": "11395d48-68ef-43b8-87ac-d721df1fe921",
   "metadata": {},
   "source": [
    "Q1. Create a Pandas Series that contains the following data: 4, 8, 15, 16, 23, and 42. Then, print the series."
   ]
  },
  {
   "cell_type": "code",
   "execution_count": 8,
   "id": "dd81c6da-48b3-414e-bac5-8a7cd1f6891b",
   "metadata": {},
   "outputs": [],
   "source": [
    "import pandas as pd\n",
    "import logging\n",
    "\n",
    "logging.basicConfig(filename=\"test.log\",level=logging.INFO,format=\"%(asctime)s %(message)s\")\n",
    "l=[4, 8, 15, 16, 23,42]\n",
    "series=pd.Series(l)\n",
    "logging.info(series)"
   ]
  },
  {
   "cell_type": "markdown",
   "id": "d2c2e938-71ac-4070-b133-a4f3cd6fcbfd",
   "metadata": {},
   "source": [
    "Q2. Create a variable of list type containing 10 elements in it, and apply pandas.Series function on the\n",
    "variable print it."
   ]
  },
  {
   "cell_type": "code",
   "execution_count": 11,
   "id": "de737830-3694-4173-9ef1-87af49a06f62",
   "metadata": {},
   "outputs": [],
   "source": [
    "import pandas as pd\n",
    "import logging\n",
    "\n",
    "logging.basicConfig(filename=\"test.log\",level=logging.INFO,format=\"%(asctime)s %(message)s\")\n",
    "l2=[1,2,3,1,3,4,5,7,4,5]\n",
    "ries=pd.Series(l2)\n",
    "logging.info(ries)"
   ]
  },
  {
   "cell_type": "markdown",
   "id": "2014bed8-6979-486c-8381-a4875f7400cd",
   "metadata": {},
   "source": [
    "Q3. Create a Pandas DataFrame that contains the following data:"
   ]
  },
  {
   "cell_type": "code",
   "execution_count": 14,
   "id": "7af970b3-bcec-43e1-9a1a-66ed36e7ed9d",
   "metadata": {},
   "outputs": [],
   "source": [
    "import pandas as pd\n",
    "import logging\n",
    "\n",
    "logging.basicConfig(filename=\"test.log\",level=logging.INFO,format=\"%(asctime)s %(message)s\")\n",
    "data={\n",
    "    \"Name\":[\"Alice\",\"Bob\",\"Claire\"],\n",
    "    \"Age\":[25,30,27],\n",
    "    \"Gender\":[\"Female\",\"Male\",\"Female\"]\n",
    "}\n",
    "df=pd.DataFrame(data)\n",
    "logging.info(df)"
   ]
  },
  {
   "cell_type": "markdown",
   "id": "5812f184-0bcf-4558-9520-8b2b95c82304",
   "metadata": {},
   "source": [
    "Q4. What is ‘DataFrame’ in pandas and how is it different from pandas.series? Explain with an example."
   ]
  },
  {
   "cell_type": "markdown",
   "id": "2b13ce91-e4db-487f-a2ea-89415014005c",
   "metadata": {},
   "source": [
    "AnsL In Pandas, a DataFrame is a two-dimensional, size-mutable, and heterogeneous tabular data structure. It is essentially a table with rows and columns, where each column can contain different data types (e.g., numbers, strings, dates) and each row represents an observation or record. DataFrames are one of the most commonly used data structures in Pandas and are similar to spreadsheets or SQL tables.\n",
    "\n",
    "On the other hand, a Pandas Series is a one-dimensional array-like object that can hold data of any data type. It is essentially a single column of data with associated labels or indices. You can think of a Series as a single column extracted from a DataFrame."
   ]
  },
  {
   "cell_type": "code",
   "execution_count": 15,
   "id": "54d987ba-32ba-49f5-bf77-1c788c94e723",
   "metadata": {},
   "outputs": [],
   "source": [
    "import pandas as pd\n",
    "import logging\n",
    "\n",
    "logging.basicConfig(filename=\"test.log\",level=logging.INFO,format=\"%(asctime)s %(message)s\")\n",
    "data={\n",
    "    \"Name\":[\"Alice\",\"Bob\",\"Claire\"],\n",
    "    \"Age\":[25,30,27],\n",
    "    \"Gender\":[\"Female\",\"Male\",\"Female\"]\n",
    "}\n",
    "df=pd.DataFrame(data)\n",
    "logging.info(df)"
   ]
  },
  {
   "cell_type": "markdown",
   "id": "db35c5b3-326f-4d5a-b52e-c68fdd444a21",
   "metadata": {},
   "source": [
    "In the above code, we created a DataFrame df with three columns: 'Name', 'Age', and 'City'. It represents a tabular structure with multiple rows and columns."
   ]
  },
  {
   "cell_type": "code",
   "execution_count": 18,
   "id": "6bfbb859-0e8a-494e-957e-d17853013443",
   "metadata": {},
   "outputs": [
    {
     "name": "stdout",
     "output_type": "stream",
     "text": [
      "\n",
      "Series:\n",
      "0    25\n",
      "1    30\n",
      "2    27\n",
      "Name: Age, dtype: int64\n"
     ]
    }
   ],
   "source": [
    "age_series = df['Age']\n",
    "print(\"\\nSeries:\")\n",
    "print(age_series)"
   ]
  },
  {
   "cell_type": "markdown",
   "id": "bdd65d0e-3178-46fe-8e0d-eb173af3b558",
   "metadata": {},
   "source": [
    "In this case, age_series is a Pandas Series that contains only the 'Age' column data from the original DataFrame. It's a one-dimensional object with the index preserved.\n",
    "\n",
    "In summary, a DataFrame is a two-dimensional data structure that holds multiple columns of data, while a Series is a one-dimensional data structure that represents a single column of data from a DataFrame."
   ]
  },
  {
   "cell_type": "markdown",
   "id": "5bb43e23-193c-4440-9300-5ec2e4e28a4c",
   "metadata": {},
   "source": [
    "Q5. What are some common functions you can use to manipulate data in a Pandas DataFrame? Can\n",
    "you give an example of when you might use one of these functions?"
   ]
  },
  {
   "cell_type": "markdown",
   "id": "4d2abca9-49da-441b-a4c1-e1e8e800f86c",
   "metadata": {},
   "source": [
    "There are many functions available in Pandas for manipulating data in a DataFrame. Here are some of the most common ones:\n",
    "\n",
    "head() and tail(): These functions allow you to view the first or last n rows of the DataFrame, respectively. For example, df.head(10) would show the first 10 rows of the DataFrame.\n",
    "\n",
    "info(): This function provides information about the DataFrame, including the data types of each column and the number of non-null values. For example, df.info() would show information about the DataFrame.\n",
    "\n",
    "describe(): This function generates descriptive statistics for the DataFrame, including count, mean, standard deviation, minimum, and maximum values. For example, df.describe() would show descriptive statistics for the DataFrame.\n",
    "\n",
    "drop(): This function allows you to drop one or more columns or rows from the DataFrame. For example, df.drop('column_name', axis=1) would drop the specified column from the DataFrame.\n",
    "\n",
    "groupby(): This function groups the DataFrame by one or more columns and allows you to perform operations on each group. For example, df.groupby('column_name').sum() would group the DataFrame by the specified column and calculate the sum of each group.\n",
    "\n",
    "sort_values(): This function allows you to sort the DataFrame by one or more columns. For example, df.sort_values('column_name') would sort the DataFrame by the specified column.\n",
    "\n",
    "fillna(): This function allows you to replace missing values in the DataFrame with a specified value. For example, df.fillna(0) would replace all missing values in the DataFrame with 0.\n",
    "\n",
    "One example of when you might use these functions is when you are analyzing sales data for a company. You could use head() to quickly view the first few rows of the DataFrame to get an idea of what the data looks like. You could use groupby() to group the data by region and calculate the total sales for each region. You could use sort_values() to sort the data by date to see how sales have changed over time. And you could use fillna() to replace any missing values in the data with zeros so that you can perform calculations on the data without errors."
   ]
  },
  {
   "cell_type": "code",
   "execution_count": 30,
   "id": "ea303c50-d4d9-40f8-973f-5aa337b00b08",
   "metadata": {},
   "outputs": [
    {
     "data": {
      "text/html": [
       "<div>\n",
       "<style scoped>\n",
       "    .dataframe tbody tr th:only-of-type {\n",
       "        vertical-align: middle;\n",
       "    }\n",
       "\n",
       "    .dataframe tbody tr th {\n",
       "        vertical-align: top;\n",
       "    }\n",
       "\n",
       "    .dataframe thead th {\n",
       "        text-align: right;\n",
       "    }\n",
       "</style>\n",
       "<table border=\"1\" class=\"dataframe\">\n",
       "  <thead>\n",
       "    <tr style=\"text-align: right;\">\n",
       "      <th></th>\n",
       "      <th>Name</th>\n",
       "      <th>Age</th>\n",
       "      <th>Gender</th>\n",
       "    </tr>\n",
       "  </thead>\n",
       "  <tbody>\n",
       "    <tr>\n",
       "      <th>0</th>\n",
       "      <td>Alice</td>\n",
       "      <td>25</td>\n",
       "      <td>Female</td>\n",
       "    </tr>\n",
       "    <tr>\n",
       "      <th>1</th>\n",
       "      <td>Bob</td>\n",
       "      <td>30</td>\n",
       "      <td>Male</td>\n",
       "    </tr>\n",
       "    <tr>\n",
       "      <th>2</th>\n",
       "      <td>Claire</td>\n",
       "      <td>27</td>\n",
       "      <td>Female</td>\n",
       "    </tr>\n",
       "  </tbody>\n",
       "</table>\n",
       "</div>"
      ],
      "text/plain": [
       "     Name  Age  Gender\n",
       "0   Alice   25  Female\n",
       "1     Bob   30    Male\n",
       "2  Claire   27  Female"
      ]
     },
     "execution_count": 30,
     "metadata": {},
     "output_type": "execute_result"
    }
   ],
   "source": [
    "import pandas as pd\n",
    "\n",
    "data={\n",
    "    \"Name\":[\"Alice\",\"Bob\",\"Claire\"],\n",
    "    \"Age\":[25,30,27],\n",
    "    \"Gender\":[\"Female\",\"Male\",\"Female\"]\n",
    "}\n",
    "df=pd.DataFrame(data)\n",
    "df"
   ]
  },
  {
   "cell_type": "code",
   "execution_count": 39,
   "id": "bf84468a-a03c-47ac-819b-5b8e1d2ce9ac",
   "metadata": {},
   "outputs": [
    {
     "name": "stdout",
     "output_type": "stream",
     "text": [
      "<class 'pandas.core.frame.DataFrame'>\n",
      "RangeIndex: 3 entries, 0 to 2\n",
      "Data columns (total 3 columns):\n",
      " #   Column  Non-Null Count  Dtype \n",
      "---  ------  --------------  ----- \n",
      " 0   Name    3 non-null      object\n",
      " 1   Age     3 non-null      int64 \n",
      " 2   Gender  3 non-null      object\n",
      "dtypes: int64(1), object(2)\n",
      "memory usage: 200.0+ bytes\n"
     ]
    }
   ],
   "source": [
    "df.info()"
   ]
  },
  {
   "cell_type": "code",
   "execution_count": 41,
   "id": "b44118e9-e17b-4606-bc0b-27e861814d0a",
   "metadata": {},
   "outputs": [
    {
     "data": {
      "text/html": [
       "<div>\n",
       "<style scoped>\n",
       "    .dataframe tbody tr th:only-of-type {\n",
       "        vertical-align: middle;\n",
       "    }\n",
       "\n",
       "    .dataframe tbody tr th {\n",
       "        vertical-align: top;\n",
       "    }\n",
       "\n",
       "    .dataframe thead th {\n",
       "        text-align: right;\n",
       "    }\n",
       "</style>\n",
       "<table border=\"1\" class=\"dataframe\">\n",
       "  <thead>\n",
       "    <tr style=\"text-align: right;\">\n",
       "      <th></th>\n",
       "      <th>Age</th>\n",
       "      <th>Gender</th>\n",
       "    </tr>\n",
       "  </thead>\n",
       "  <tbody>\n",
       "    <tr>\n",
       "      <th>0</th>\n",
       "      <td>25</td>\n",
       "      <td>Female</td>\n",
       "    </tr>\n",
       "    <tr>\n",
       "      <th>1</th>\n",
       "      <td>30</td>\n",
       "      <td>Male</td>\n",
       "    </tr>\n",
       "    <tr>\n",
       "      <th>2</th>\n",
       "      <td>27</td>\n",
       "      <td>Female</td>\n",
       "    </tr>\n",
       "  </tbody>\n",
       "</table>\n",
       "</div>"
      ],
      "text/plain": [
       "   Age  Gender\n",
       "0   25  Female\n",
       "1   30    Male\n",
       "2   27  Female"
      ]
     },
     "execution_count": 41,
     "metadata": {},
     "output_type": "execute_result"
    }
   ],
   "source": [
    "df.drop(\"Name\",axis=1)"
   ]
  },
  {
   "cell_type": "code",
   "execution_count": 42,
   "id": "407aa1f4-453a-4084-9da7-529bf70f7cc8",
   "metadata": {},
   "outputs": [
    {
     "data": {
      "text/plain": [
       "0    25\n",
       "1    30\n",
       "2    27\n",
       "Name: Age, dtype: int64"
      ]
     },
     "execution_count": 42,
     "metadata": {},
     "output_type": "execute_result"
    }
   ],
   "source": [
    "ages = df['Age']\n",
    "ages"
   ]
  },
  {
   "cell_type": "code",
   "execution_count": 31,
   "id": "42871000-6604-468a-b55c-920cce6a5612",
   "metadata": {},
   "outputs": [
    {
     "name": "stdout",
     "output_type": "stream",
     "text": [
      "  Name  Age Gender\n",
      "1  Bob   30   Male\n"
     ]
    }
   ],
   "source": [
    "adults=df[df[\"Age\"]>29]\n",
    "print(adults)"
   ]
  },
  {
   "cell_type": "code",
   "execution_count": 37,
   "id": "9dedd0b9-cf1a-4408-ad79-6db157f4e8e8",
   "metadata": {},
   "outputs": [
    {
     "data": {
      "text/html": [
       "<div>\n",
       "<style scoped>\n",
       "    .dataframe tbody tr th:only-of-type {\n",
       "        vertical-align: middle;\n",
       "    }\n",
       "\n",
       "    .dataframe tbody tr th {\n",
       "        vertical-align: top;\n",
       "    }\n",
       "\n",
       "    .dataframe thead th {\n",
       "        text-align: right;\n",
       "    }\n",
       "</style>\n",
       "<table border=\"1\" class=\"dataframe\">\n",
       "  <thead>\n",
       "    <tr style=\"text-align: right;\">\n",
       "      <th></th>\n",
       "      <th>Name</th>\n",
       "      <th>Age</th>\n",
       "      <th>Gender</th>\n",
       "    </tr>\n",
       "  </thead>\n",
       "  <tbody>\n",
       "    <tr>\n",
       "      <th>0</th>\n",
       "      <td>Alice</td>\n",
       "      <td>25</td>\n",
       "      <td>Female</td>\n",
       "    </tr>\n",
       "    <tr>\n",
       "      <th>2</th>\n",
       "      <td>Claire</td>\n",
       "      <td>27</td>\n",
       "      <td>Female</td>\n",
       "    </tr>\n",
       "    <tr>\n",
       "      <th>1</th>\n",
       "      <td>Bob</td>\n",
       "      <td>30</td>\n",
       "      <td>Male</td>\n",
       "    </tr>\n",
       "  </tbody>\n",
       "</table>\n",
       "</div>"
      ],
      "text/plain": [
       "     Name  Age  Gender\n",
       "0   Alice   25  Female\n",
       "2  Claire   27  Female\n",
       "1     Bob   30    Male"
      ]
     },
     "execution_count": 37,
     "metadata": {},
     "output_type": "execute_result"
    }
   ],
   "source": [
    "df_sort=df.sort_values(\"Age\")\n",
    "df_sort"
   ]
  },
  {
   "cell_type": "code",
   "execution_count": 38,
   "id": "b06e9daa-2e78-4a2f-a9e6-bf8757d90eb7",
   "metadata": {},
   "outputs": [
    {
     "data": {
      "text/html": [
       "<div>\n",
       "<style scoped>\n",
       "    .dataframe tbody tr th:only-of-type {\n",
       "        vertical-align: middle;\n",
       "    }\n",
       "\n",
       "    .dataframe tbody tr th {\n",
       "        vertical-align: top;\n",
       "    }\n",
       "\n",
       "    .dataframe thead th {\n",
       "        text-align: right;\n",
       "    }\n",
       "</style>\n",
       "<table border=\"1\" class=\"dataframe\">\n",
       "  <thead>\n",
       "    <tr style=\"text-align: right;\">\n",
       "      <th></th>\n",
       "      <th>Name</th>\n",
       "      <th>Gender</th>\n",
       "    </tr>\n",
       "    <tr>\n",
       "      <th>Age</th>\n",
       "      <th></th>\n",
       "      <th></th>\n",
       "    </tr>\n",
       "  </thead>\n",
       "  <tbody>\n",
       "    <tr>\n",
       "      <th>25</th>\n",
       "      <td>Alice</td>\n",
       "      <td>Female</td>\n",
       "    </tr>\n",
       "    <tr>\n",
       "      <th>27</th>\n",
       "      <td>Claire</td>\n",
       "      <td>Female</td>\n",
       "    </tr>\n",
       "    <tr>\n",
       "      <th>30</th>\n",
       "      <td>Bob</td>\n",
       "      <td>Male</td>\n",
       "    </tr>\n",
       "  </tbody>\n",
       "</table>\n",
       "</div>"
      ],
      "text/plain": [
       "       Name  Gender\n",
       "Age                \n",
       "25    Alice  Female\n",
       "27   Claire  Female\n",
       "30      Bob    Male"
      ]
     },
     "execution_count": 38,
     "metadata": {},
     "output_type": "execute_result"
    }
   ],
   "source": [
    "df.groupby(\"Age\").sum()"
   ]
  },
  {
   "cell_type": "markdown",
   "id": "65f69194-6acf-4982-953a-8bc036fcd320",
   "metadata": {},
   "source": [
    "Q6. Which of the following is mutable in nature Series, DataFrame, Panel?"
   ]
  },
  {
   "cell_type": "markdown",
   "id": "1ae6ba53-e052-4f0c-9ce1-80bc1bdc882e",
   "metadata": {},
   "source": [
    "Both Series and DataFrame are mutable in nature, while Panel is not. This means that you can modify the data in a Series or DataFrame after it has been created, but you cannot modify the data in a Panel after it has been created"
   ]
  },
  {
   "cell_type": "markdown",
   "id": "8accb6d0-25e5-40c1-915c-1d6af6f2b3b5",
   "metadata": {},
   "source": [
    "Q7. Create a DataFrame using multiple Series. Explain with an example."
   ]
  },
  {
   "cell_type": "markdown",
   "id": "428e56af-ebc9-4664-9f23-e19a094c760e",
   "metadata": {},
   "source": [
    "To create a DataFrame using multiple Series, we can pass a dictionary of Series to the pd.DataFrame() function. Each key in the dictionary will become a column name in the DataFrame, and each value will become a Series in that column."
   ]
  },
  {
   "cell_type": "code",
   "execution_count": 47,
   "id": "163b9daf-f1a6-454e-9489-3ecc040e1f2c",
   "metadata": {},
   "outputs": [],
   "source": [
    "import pandas as pd\n",
    "import logging\n",
    "\n",
    "logging.basicConfig(filename=\"test.log\",level=logging.INFO,format=\"%(asctime)s %(message)s\")\n",
    "\n",
    "\n",
    "name=pd.Series(['Alice' , 'Bob' , 'Claire'])\n",
    "age=pd.Series([25,30,22])\n",
    "gender=pd.Series(['Female','Male','Female'])\n",
    "\n",
    "d={'Name':name , 'Age': age , 'Gender':gender}\n",
    "\n",
    "df1=pd.DataFrame(d)\n",
    "\n",
    "logging.info(df1)"
   ]
  },
  {
   "cell_type": "code",
   "execution_count": 48,
   "id": "2d4b82d8-86ba-4e28-8d91-1ca67eb5c4f7",
   "metadata": {},
   "outputs": [
    {
     "data": {
      "text/html": [
       "<div>\n",
       "<style scoped>\n",
       "    .dataframe tbody tr th:only-of-type {\n",
       "        vertical-align: middle;\n",
       "    }\n",
       "\n",
       "    .dataframe tbody tr th {\n",
       "        vertical-align: top;\n",
       "    }\n",
       "\n",
       "    .dataframe thead th {\n",
       "        text-align: right;\n",
       "    }\n",
       "</style>\n",
       "<table border=\"1\" class=\"dataframe\">\n",
       "  <thead>\n",
       "    <tr style=\"text-align: right;\">\n",
       "      <th></th>\n",
       "      <th>Name</th>\n",
       "      <th>Age</th>\n",
       "      <th>Gender</th>\n",
       "    </tr>\n",
       "  </thead>\n",
       "  <tbody>\n",
       "    <tr>\n",
       "      <th>0</th>\n",
       "      <td>Alice</td>\n",
       "      <td>25</td>\n",
       "      <td>Female</td>\n",
       "    </tr>\n",
       "    <tr>\n",
       "      <th>1</th>\n",
       "      <td>Bob</td>\n",
       "      <td>30</td>\n",
       "      <td>Male</td>\n",
       "    </tr>\n",
       "    <tr>\n",
       "      <th>2</th>\n",
       "      <td>Claire</td>\n",
       "      <td>22</td>\n",
       "      <td>Female</td>\n",
       "    </tr>\n",
       "  </tbody>\n",
       "</table>\n",
       "</div>"
      ],
      "text/plain": [
       "     Name  Age  Gender\n",
       "0   Alice   25  Female\n",
       "1     Bob   30    Male\n",
       "2  Claire   22  Female"
      ]
     },
     "execution_count": 48,
     "metadata": {},
     "output_type": "execute_result"
    }
   ],
   "source": [
    "df1"
   ]
  }
 ],
 "metadata": {
  "kernelspec": {
   "display_name": "Python 3 (ipykernel)",
   "language": "python",
   "name": "python3"
  },
  "language_info": {
   "codemirror_mode": {
    "name": "ipython",
    "version": 3
   },
   "file_extension": ".py",
   "mimetype": "text/x-python",
   "name": "python",
   "nbconvert_exporter": "python",
   "pygments_lexer": "ipython3",
   "version": "3.10.8"
  }
 },
 "nbformat": 4,
 "nbformat_minor": 5
}
